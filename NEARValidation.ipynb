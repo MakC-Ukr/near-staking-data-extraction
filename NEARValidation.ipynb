{
  "cells": [
    {
      "cell_type": "code",
      "execution_count": 25,
      "metadata": {
        "colab": {
          "base_uri": "https://localhost:8080/"
        },
        "id": "uNauad2rPo2f",
        "outputId": "d61791ba-560c-475a-968b-58bce7e66b72"
      },
      "outputs": [],
      "source": [
        "import math\n",
        "import numpy as np\n",
        "import pandas as pd\n",
        "import time\n",
        "import datetime"
      ]
    },
    {
      "cell_type": "code",
      "execution_count": 26,
      "metadata": {
        "id": "XFjAq1y-V9DX"
      },
      "outputs": [],
      "source": [
        "path = f\"data/near_historical.csv\"\n",
        "df_historical= pd.read_csv(path)\n",
        "# df_historical.dropna(axis=0,inplace=True)\n",
        "# path = f\"drive/Shared drives/Model/Data Extraction/NEAR/ValidationOutput.csv\"\n",
        "# df_outputHistOld = pd.read_csv(path)\n",
        "# print(df_historical)"
      ]
    },
    {
      "cell_type": "code",
      "execution_count": 27,
      "metadata": {},
      "outputs": [],
      "source": [
        "df_historical = df_historical[-5:]\n",
        "df_historical.reset_index(drop=True, inplace=True)"
      ]
    },
    {
      "cell_type": "code",
      "execution_count": 28,
      "metadata": {
        "id": "Dz08CCY8i6bq"
      },
      "outputs": [],
      "source": [
        "No_Validators = int((len(df_historical.columns)-df_historical.columns.get_loc(\"block_time_empirical\")) / 15)\n",
        "df_output = pd.DataFrame(columns = ['Epoch Number', 'Validator Name', 'Stake', 'blocks_prod_ratio', 'chunks_prod_ratio','UptimePCT', 'Uptime', 'Actual Rewards', 'Expected Rewards', 'Realized APY', 'Expected APY', 'Absolute Difference in Rewards', 'Absolute Difference in APY', '% Difference in Rewards', 'Rewards Method Used'],\n",
        "                         index = range(No_Validators))\n",
        "# This dataframe will be output for the studio file\n",
        "df_outputHist = pd.DataFrame(columns = ['Epoch Number', 'Validator Name', 'Stake', 'blocks_prod_ratio', 'chunks_prod_ratio','UptimePCT', 'Uptime', 'Actual Rewards', 'Expected Rewards', 'Realized APY', 'Expected APY',\n",
        "                                        'Absolute Difference in Rewards', 'Absolute Difference in APY', '% Difference in Rewards'])\n",
        "\n",
        "# print(df_output)\n",
        "#print(df_outputHist)"
      ]
    },
    {
      "cell_type": "code",
      "execution_count": 29,
      "metadata": {
        "id": "Dc4lAbWGlmQC"
      },
      "outputs": [
        {
          "name": "stderr",
          "output_type": "stream",
          "text": [
            "/var/folders/0y/dd7nd74d5ybdsz_l9kpznc300000gn/T/ipykernel_3376/382777319.py:80: FutureWarning: The frame.append method is deprecated and will be removed from pandas in a future version. Use pandas.concat instead.\n",
            "  df_outputHist = df_outputHist.append(df_output, ignore_index = True)\n"
          ]
        }
      ],
      "source": [
        "for row in range (2, len(df_historical)):\n",
        "  # Constants from Network\n",
        "  totalStake                          = float(df_historical['total_staked'][row])*1E-24\n",
        "  \n",
        "  totalSupply                         = float(df_historical['total_supply'][row])*1E-24\n",
        "  Block_time_empirical                = float(df_historical['block_time_empirical'][row]) \n",
        "  ONLINE_THRESHOLD_MIN                = float(df_historical['ONLINE_THRESHOLD_MIN'][row])\n",
        "  ONLINE_THRESHOLD_MAX                = float(df_historical['ONLINE_THRESHOLD_MAX'][row])   \n",
        "  TREASURY_PCT                        = 0.1\n",
        "  EPOCHS_PER_YEAR                     = float(df_historical['EPOCHS_A_YEAR'][row])\n",
        "  EPOCH_LENGTH                        = float(df_historical['EPOCH_LENGTH'][row])\n",
        "  REWARD_PCT_PER_YEAR                 = 0.05\n",
        "  BLOCK_PRODUCER_KICKOUT_THRESHOLD    = float(df_historical['BLOCK_PRODUCER_KICKOUT_THRESHOLD'][row])\n",
        "  CHUNK_PRODUCER_KICKOUT_THRESHOLD    = float(df_historical['CHUNK_PRODUCER_KICKOUT_THRESHOLD'][row])\n",
        "  E_blockTime                         = float(df_historical['BLOCK_TIME_TARGET'][row])\n",
        "\n",
        "\n",
        "  # Parameters to be varied by validator\n",
        "  for i in range(No_Validators):\n",
        "\n",
        "    df_output['Validator Name'][i]                   = df_historical[f'val_{i}_name'][row]\n",
        "    df_output['Epoch Number'][i]                     = df_historical['epoch_height'][row]   \n",
        "    df_output['Stake'][i]                            = float(df_historical[f'val_{i}_sum_stake'][row])*1E-24\n",
        "    \n",
        "    num_produced_blocks                = float(df_historical[f'val_{i}_produced_blocks'][row])\n",
        "    num_expected_blocks                = float(df_historical[f'val_{i}_expected_blocks'][row])\n",
        "    num_produced_chunks                = float(df_historical[f'val_{i}_produced_chunks'][row])\n",
        "    num_expected_chunks                = float(df_historical[f'val_{i}_expected_chunks'][row])\n",
        "\n",
        "    if num_expected_blocks == 0 or num_expected_chunks == 0:\n",
        "      uptime_Pct_v = 0\n",
        "      blocks_prod_ratio = 0\n",
        "      chunks_prod_ratio = 0\n",
        "    elif num_produced_blocks/num_expected_blocks < BLOCK_PRODUCER_KICKOUT_THRESHOLD/100 or num_produced_chunks/num_expected_chunks < CHUNK_PRODUCER_KICKOUT_THRESHOLD/100:\n",
        "      uptime_Pct_v = 0\n",
        "      blocks_prod_ratio = num_produced_blocks/num_expected_blocks\n",
        "      chunks_prod_ratio = num_produced_chunks/num_expected_chunks\n",
        "    else:\n",
        "      uptime_Pct_v = (num_produced_blocks/num_expected_blocks + num_produced_chunks/num_expected_chunks)/2\n",
        "      blocks_prod_ratio = num_produced_blocks/num_expected_blocks\n",
        "      chunks_prod_ratio = num_produced_chunks/num_expected_chunks\n",
        "\n",
        "    df_output['blocks_prod_ratio'][i] = num_produced_blocks/num_expected_blocks\n",
        "    df_output['chunks_prod_ratio'][i] = num_produced_chunks/num_expected_chunks\n",
        "    df_output['UptimePCT'][i]         = uptime_Pct_v\n",
        "\n",
        "    uptime_v                          = min(1,max(0,(uptime_Pct_v-ONLINE_THRESHOLD_MIN) / (ONLINE_THRESHOLD_MAX-ONLINE_THRESHOLD_MIN)))\n",
        "    df_output['Uptime'][i]            = uptime_v\n",
        "\n",
        "    E_epochReward           = totalSupply * ( REWARD_PCT_PER_YEAR/EPOCHS_PER_YEAR) *Block_time_empirical/E_blockTime\n",
        "    E_totalValidatorReward  = (1-TREASURY_PCT)*E_epochReward\n",
        "    E_validator             = uptime_v * E_totalValidatorReward * df_output['Stake'][i]/totalStake\n",
        "\n",
        "    E_APY                      = (1+E_validator/df_output['Stake'][i])**(EPOCHS_PER_YEAR*E_blockTime/Block_time_empirical)-1 # POOR MODEL; SHOULD LOOP THROUGH YEAR\n",
        "        \n",
        "    staked_before             = float(df_historical[f'val_{i}_sum_stake'][row-1])\n",
        "    stake_after               = float(df_historical[f'val_{i}_sum_stake'][row])\n",
        "    unstaked_amount           = float(df_historical[f'val_{i}_unstaked_amount'][row-2])\n",
        "    added_stake               = float(df_historical[f'val_{i}_added_stake'][row-2])\n",
        "    actual_rewards            = (stake_after - (staked_before + added_stake - unstaked_amount))/1e24\n",
        "    Realized_APY              = (1+actual_rewards/df_output['Stake'][i])**(EPOCHS_PER_YEAR*E_blockTime/Block_time_empirical)-1 \n",
        "    method_used_for_rewards   = 2\n",
        "    \n",
        "    df_output['Actual Rewards'][i]   = actual_rewards \n",
        "    df_output['Expected Rewards'][i] = E_validator\n",
        "\n",
        "    if float(df_output['Actual Rewards'][i]) != 0:\n",
        "      df_output['% Difference in Rewards'][i] = (E_validator - float(df_output['Actual Rewards'][i])) / float(df_output['Actual Rewards'][i]) *100\n",
        "    else:\n",
        "      df_output['% Difference in Rewards'][i] = 'NaN'\n",
        "\n",
        "    df_output['Expected APY'][i]                   = E_APY*100\n",
        "    df_output['Realized APY'][i]                   = Realized_APY*100    \n",
        "    df_output['Absolute Difference in Rewards'][i] = E_validator - float(df_output['Actual Rewards'][i])\n",
        "    df_output['Absolute Difference in APY'][i]     = (df_output['Expected APY'][i]  -   df_output['Realized APY'][i])\n",
        "    df_output['Rewards Method Used'][i]            = method_used_for_rewards\n",
        "\n",
        "  #df_output.to_csv(f\"drive/Shared drives/Model/Data Extraction/NEAR/ValidationOutput{row}.csv\", index = False)\n",
        "  df_outputHist = df_outputHist.append(df_output, ignore_index = True)"
      ]
    },
    {
      "cell_type": "code",
      "execution_count": 30,
      "metadata": {
        "id": "9Nmy8ndEqgO9"
      },
      "outputs": [],
      "source": [
        "df_outputHist.to_csv(f\"val_out.csv\", index = False)"
      ]
    },
    {
      "cell_type": "code",
      "execution_count": null,
      "metadata": {},
      "outputs": [],
      "source": []
    },
    {
      "cell_type": "code",
      "execution_count": null,
      "metadata": {},
      "outputs": [],
      "source": []
    }
  ],
  "metadata": {
    "colab": {
      "provenance": []
    },
    "kernelspec": {
      "display_name": "venv",
      "language": "python",
      "name": "python3"
    },
    "language_info": {
      "codemirror_mode": {
        "name": "ipython",
        "version": 3
      },
      "file_extension": ".py",
      "mimetype": "text/x-python",
      "name": "python",
      "nbconvert_exporter": "python",
      "pygments_lexer": "ipython3",
      "version": "3.8.9"
    },
    "vscode": {
      "interpreter": {
        "hash": "bea62298d45008a021aebf2e66132df9e6bc68b189515caacae71d952dd37197"
      }
    }
  },
  "nbformat": 4,
  "nbformat_minor": 0
}
