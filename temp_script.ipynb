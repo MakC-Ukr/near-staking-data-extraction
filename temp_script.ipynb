{
 "cells": [
  {
   "cell_type": "code",
   "execution_count": 18,
   "metadata": {},
   "outputs": [],
   "source": [
    "from helpers import *"
   ]
  },
  {
   "cell_type": "code",
   "execution_count": 19,
   "metadata": {},
   "outputs": [],
   "source": [
    "df = pd.read_csv(\"data/near_historical_edited.csv\")\n",
    "historical_df = pd.read_csv(\"data/near_historical.csv\")\n",
    "RELEVANT_VALIDATORS = json.load(open(\"RELEVANT_VALIDATORS.json\"))"
   ]
  },
  {
   "cell_type": "code",
   "execution_count": 20,
   "metadata": {},
   "outputs": [
    {
     "name": "stdout",
     "output_type": "stream",
     "text": [
      "\u001b[96m Fetching deposit_and_stake Txns from Near Blocks \u001b[0m\n",
      "[{'hash': 'BGXvvGrRpMbSqWBBsGHHu51HNAySTMhq8wUoGSanubAW', 'sender': 'ziyad.near', 'receipt_id': 'FJU3pHLz4vsmVSZS48rMXZSWnFbUWya8Fexn6DUMHjXd'}, {'hash': 'JJ7TqoenGaYLWf6uYMHQ8qxUTvDcUHR3kh5Rwta9So4', 'sender': 'df3445c1a1de61a05d33d5ab78e9ff919a668a5d4d6204653db117ab7a9b5245', 'receipt_id': 'DzkAL1FuN3f8uNdSffU9BiyEBt7mecdfPkABXnkF3NDa'}, {'hash': 'GY3QUqMDztNpMccarN1VuiZPaBpoKBFet9TN5oqdeqU6', 'sender': '3864f3482cfc99073a0b4ae46474857c81ac640bc3228897ffd0fe2ba9bb3e87', 'receipt_id': '2LP6885rut32dMxj88cE2DZ8KwbhP5LZVDbxhWEPvXky'}, {'hash': '21QTpYs8MusatuKJhvrr469LptuvG31sc5EKnNkoJXoK', 'sender': '7e41bb18d1a46e8468b43e3e67285675d75ec58d7ffbc37d4c4fc815848dc70d', 'receipt_id': 'EGHyC16u98EzVfnXZnaHEfZsSn6TQZ5YDEDtN3WEQzmf'}]\n",
      "\u001b[96m Fetching deposit_and_stake Txns from Near Blocks \u001b[0m\n",
      "[]\n",
      "\u001b[96m Fetching deposit_and_stake Txns from Near Blocks \u001b[0m\n",
      "[{'hash': 'nNuzxYzX3CeWRp4Vt6F1bNdcnP1GKPHAG7kV4i5BWCs', 'sender': 'test2.near', 'receipt_id': '4NpoLsMdSasTAGXvhenArNiE28J2G2eovxDr6nBbhHGR'}, {'hash': 'BwiWisbcT98LYLKV6qhP4MX7bQLDLSuvDqnDCXkagjNz', 'sender': 'test3.near', 'receipt_id': '6oBBeMDDnR2SFGDEZe9sRdxMe1mE4dwnGe1biK6RPhu6'}, {'hash': '7MMjyZbyWzabEP2oPAHPPFHYeEVTP9JrZ5YqzoUyeiwb', 'sender': 'sergun.near', 'receipt_id': '8tS8Xn6rhDAtXXs5Uvun4v3x2kteuvTka8xaULFDS2H7'}, {'hash': '21j83xfmRjJ3L5F9ubiNEbwoGLoikmdAnThW8xEkj9B1', 'sender': 'ff67476ce32064e449b38b6641939f2d2d8e91a6eb4455f68eb7fa24e9c04b42', 'receipt_id': 'DuZ2EJ3JeBTSDNEhgtk1TcRKaGAhPpUeGzKeRfdPuc4s'}, {'hash': 'G1XJwfGNPb8pNHLHTZBjcp7YvEUJZ7hWEoGpvbUegLrv', 'sender': 'intentaction.near', 'receipt_id': '422uUMkcbRaJRCAFfwyE1c2N7ZPwdgzsBNwA4mu3TC82'}, {'hash': '76caGVTUdyeXoXXkjmQL9PGaf9xeCgSKQczUxKRw8Eq4', 'sender': 'c91bd5b078fdaacf0ee6f9604b0957bd5553ad894e02af3ae35c587e574aaa6e', 'receipt_id': 'FFf2JMaiE8vThedapwxwGRSzJgxxwsRFx9Rmjf3YMrCV'}, {'hash': 'D2kF6EH61R2ipRSgYSZ8RYWU9D9kPLB7DERog9habLRq', 'sender': '65bf378545de93620fddb51bf041464c4f18892145e775a1fc65fd414d0a3e3f', 'receipt_id': 'DUG9ZxwiCc3gS6BnhX21VWACze2rsyuoFPrQsWZVYzs6'}, {'hash': '6YwGiSaKy1oUJufy1UtoPNp7dnjhkgbTQAmqhSVKtmF7', 'sender': 'bogdov4884.near', 'receipt_id': 'E8A6pJNevESWrowX1LjaN8Zcr8cEmFphXevsgXJ39cFT'}, {'hash': '3JF59ysYeSyUmfZTKMBGYRYeBZRAkDSRSW1KJRi7Niie', 'sender': 'test228.near', 'receipt_id': '4KFKeJrZJfYaGz3aQ4uipmPeWy3YYTHwnEysa5fndDag'}, {'hash': 'GhdkrdcTk2cXjnaA2a2of7jeStkTKhKBbcbPiK3dxtyz', 'sender': 'icebear.near', 'receipt_id': 'J4W1zrSk7ka7KN8aMRcF2BrjsdF7E8hSbgYNvXvUDuYb'}, {'hash': '4cZTAuyiBbWgknhnBYtYuPabiYo8LuJr5SL1oJopk14f', 'sender': '76b8171dc00a97de0f4342280c765bca14e433939a35d26e47538cc1fa741694', 'receipt_id': 'FvBh8Noebm4hHZ4Bw6vKuxF12jXAahzfkg7wbTFsR536'}, {'hash': '8eMnDYYyn1vrWMdE3emzzrh6ktykjceU39pcWN1cnmBC', 'sender': 'destructor48.near', 'receipt_id': 'EM5TnfB2YQqUWNgF5ZaUeHWpPrZULii1owvtREP2roFD'}, {'hash': '9fCWDEfuAT5WQrqpBQTghjUKdYMuNzNnx7GEpqNy3JrJ', 'sender': 'ab4d928b3aa2f72de24988a498a56b254bf634670c5b6fa2807004b118589273', 'receipt_id': '81HpVtqazJr6iDZMWfpyFreirKPq5DD4eNruShLxk5w6'}, {'hash': '2rUXWZkc5n9m4QcTC4tkjXaRRR6ixeg8XHgzwEM2wFqc', 'sender': '52d309a6bf5e033b80b4c95c4c0c6fb9ed9acbdf586825a1ed4251ff51f8507d', 'receipt_id': '3pLYpvDjYb7akgky9kge1zzmNupyJQMhXSkr6i7UJ9Dt'}, {'hash': 'EB293R4cfEsobnxDFqnQKvusgYnRAR83nELGNpT93pPk', 'sender': 'lisaveto4ka.near', 'receipt_id': '2W7XmP6D94VqWdUBnfb2chz8KupHMQNBcYLFyZk8uPEz'}, {'hash': 'FZv5ZSJb31euz6Ag2jxxFmuosTxvmUKBkCcXrHCTHEnb', 'sender': 'rakov.near', 'receipt_id': '5A65uAbd9wR21NRU6Zb6Y3vUWh2MuAsa1CEBycmBqyAv'}]\n",
      "\u001b[96m Fetching deposit_and_stake Txns from Near Blocks \u001b[0m\n",
      "[{'hash': 'yDkzmvRxB5oUtkwaUkte3o13C62fc4MLrvGPGyiyZJR', 'sender': 'ziyad.near', 'receipt_id': 'EcmB1EjmwbprUhoQrFFZw93hkZ74JQuaPncM6MExecBU'}, {'hash': '3UhhJzE9paaSS8eQNSp9bEUA3WWTNLoqaZsQ9KampuGJ', 'sender': 'scudecaleb.near', 'receipt_id': 'HUobS2qLS1DHeATe9y645oSxAQkN6xLcAsoYspDBhCHj'}, {'hash': 'GxM9fCxJofj42g1MWv9R8WPmNf7vSsdBW1tgLYLETVXs', 'sender': 'e74f29a182bb584840e697bb421fc2904c38d1108e892055c68e32b66060f153', 'receipt_id': '82CuFgNYSrGtjMbLM4UQ5HNStkgThkKRUBJu6ZgbCAiE'}]\n",
      "\u001b[96m Fetching deposit_and_stake Txns from Near Blocks \u001b[0m\n",
      "[]\n",
      "\u001b[96m Fetching deposit_and_stake Txns from Near Blocks \u001b[0m\n",
      "[]\n",
      "\u001b[96m Fetching deposit_and_stake Txns from Near Blocks \u001b[0m\n",
      "[{'hash': 'J7QdvG3KtFSfekUgGGANMRd26VNGAsGfcsFC5QUotx9t', 'sender': 'bffdbc7ef0a8356b9272fd81ba794f2d22822043b0412413d409d5abca91ef24', 'receipt_id': '8QduuDv5HuYvGzDXUvYxyzjsyAj5BDJF1dkpwWicgicq'}, {'hash': 'GjLH4ZKt8YQT525tuqHkSExwPx4bg5AizcYxHJQ4v8WT', 'sender': 'ziyad.near', 'receipt_id': 'qDA8nC43NK1A6qhHGvz9hURLgyX7SRCpg7FP7NWHpny'}, {'hash': 'ERN12mMoFXpjFj2aiiNLpMjixUg38J6V61mNZTyJAVgZ', 'sender': 'd19d5f01db71a277a3df51007fa397097d8b7ae23aa602573fd10e570e824071', 'receipt_id': 'AZCFtu78h7FTJtDkLmTWsbvHKSFSVdh2QeN1UnZH25XY'}, {'hash': '7gSyo6odDVtD3cJ9c1H1RcQbDKmuLR7yHTTisVjbMMLW', 'sender': 'feitosa.near', 'receipt_id': '4se7trtLfgbG9v41VyBEdvBDBeuQAdWRSdcCvvuGiK7J'}, {'hash': 'dssjsbeoaWawYrsTkajanokF9m5Eiz4EhnNzKdtmeux', 'sender': 'c91bd5b078fdaacf0ee6f9604b0957bd5553ad894e02af3ae35c587e574aaa6e', 'receipt_id': '7oay3Pp2yJssUi6JGCZx83m5LNyAShKxagfwghYteq1M'}, {'hash': 'HZmfbjXixNYbr6UehVrq5rm5BTYXVJjvsN65VryYZA1V', 'sender': '4cf1b94a333506590b41fe5513ee917384345dd76b0b023a7a4eca077a2bfa0f', 'receipt_id': '95p8R4qe6ovebBXDysEPkQyrE3V4u6FDPPwtb6EvLUHQ'}, {'hash': 'AK5UNa3UR82gvGsSD1tTXecQjVdxfQQSJCG6KqMUYy9h', 'sender': '2077ddd5df0eaf2d45ff902fdbe831ec2515a75806a4023d435cea795c5bb1bb', 'receipt_id': 'DwCseNzC3TbFBuXTfzdix6gSiU2G9CiYuaPSiBXpKjLX'}, {'hash': 'EzYScw5tCmsXy7LxFjVNGG4vM27TPDmH384t5aaRxFFu', 'sender': 'cb09c8ebde740061a96d00e0cf163c1bae79931bb3a50131fcdd638098a0edab', 'receipt_id': 'FVQ9o38bNcK6SSPNEmpqYo5Ayrgisks7FYkReDySzCw3'}, {'hash': '62ccYfQGYGVJZaZkEdWY9ryjtof2euDJprEkbbeJAcce', 'sender': 'destructor48.near', 'receipt_id': 'AnmNTArEFUf7XvvoV3wW7aFU6DZMzE3Vai6CRdhqKwvp'}, {'hash': '4StDtmnjY5aY9UfVXrvW1ikQ85TSazXXTA3Hnk3sVnk9', 'sender': 'gomeslucasinv.near', 'receipt_id': '7GBqKAkmLsQzeoCY1r8hvRPyZkWTQqgEXP3XXh58qTqM'}]\n",
      "\u001b[96m Fetching deposit_and_stake Txns from Near Blocks \u001b[0m\n",
      "[{'hash': 'GctRNDn4TiSpPptQeQ6Vk3T6JgsMZ6NZEvajYPUb5mME', 'sender': 'charlytooo.near', 'receipt_id': 'Lj8oDmT3jm6hezkfdZfvc4kzmdWhnpLBizgzuyWoPzy'}, {'hash': 'H64KPDkRpxnYTLLQ9Y8qWFDsZ7zV9czsjkKLGdUxespx', 'sender': 'adritrvt.near', 'receipt_id': '9xgmTKX9MfRUqvAfMmKdsgH2cM2UcsxXWEgUQ9V5GKx4'}]\n",
      "\u001b[96m Fetching deposit_and_stake Txns from Near Blocks \u001b[0m\n",
      "[{'hash': '39BmKhsbS3kPVZoL61qTe3AEP5Kbvzci5Utex19cpLet', 'sender': 'pierre-test-multisig-lockup.near', 'receipt_id': 'GB6XJCCANUnD9iSfiknosWN9Ji28YJ4oEHzuriYEDyE9'}, {'hash': 'CaEadZeyuoVp8VMdVN2bxPqGhFfZ87yDfjz7tbSVukbJ', 'sender': '06cde7af7bdbe0c16f3b45c1dbb0f1f4a9342d22ca8aa858ffd02e74e27abbdd', 'receipt_id': 'HqmsVpcXQQNS6KYy5ffCZEikE65UcjaYnfuQCMwpWivU'}, {'hash': 'BaZbtes55cQ1jg22qTTHT5WvXQn2em4sHZarxUCEMZKt', 'sender': 'ignace.near', 'receipt_id': '2bquez3YjoEj8EBhmPpgtbDBRDxmHJpuAYtcKiHiqrCU'}, {'hash': '9D87q552XtxUbZr1bnow2TEmTZmYPgkwsQF251aYoAV2', 'sender': 'd5b02ac1b02c24585852112e7b3206e9c9863aa008011c844cc89abf90443ac5', 'receipt_id': 'BDpXwTo2DRHyrtYRLFtnGWfZGnD4aaeUg91ztQa64Gs9'}]\n",
      "\u001b[96m Fetching deposit_and_stake Txns from Near Blocks \u001b[0m\n",
      "[]\n",
      "\u001b[96m Fetching deposit_and_stake Txns from Near Blocks \u001b[0m\n",
      "[]\n",
      "\u001b[96m Fetching deposit_and_stake Txns from Near Blocks \u001b[0m\n",
      "[{'hash': 'DfYa9Hwd89utPGv7Cjy4m1ZxKPoAV8DJay8SQtR7xbC3', 'sender': 'v2-nearx.stader-labs.near', 'receipt_id': 'H3iv8hyQW1Aj9cj52UeU2F3eU7ikntt7FmzGnvX4xqsz'}, {'hash': '4JpUMLgW2A9auSvGY55yWRkAVNHpcBK3CZ9x58uc551f', 'sender': 'buhiverse.near', 'receipt_id': 'AiiqLNWXtKdRPE7UrH5Hkwt2VCbhNCCq1fWE7G6F8jec'}, {'hash': '2LGyxTxQkvGWMtTo3JMMCF8gHwV7X8VPc9dvYJy6oQjV', 'sender': 'moemomski.near', 'receipt_id': 'EgrVtyFYh5A3APvbga4Pwa4yccMKwVE2MC7wqM7FWEim'}]\n",
      "\u001b[96m Fetching deposit_and_stake Txns from Near Blocks \u001b[0m\n",
      "[]\n",
      "\u001b[96m Fetching deposit_and_stake Txns from Near Blocks \u001b[0m\n",
      "[]\n",
      "\u001b[96m Fetching deposit_and_stake Txns from Near Blocks \u001b[0m\n",
      "[]\n",
      "\u001b[96m Fetching deposit_and_stake Txns from Near Blocks \u001b[0m\n",
      "[{'hash': '5JUapBgBKvPJ6wWLxZddNm7e7CVwXoGpcachtfBpzuas', 'sender': 'cb09c8ebde740061a96d00e0cf163c1bae79931bb3a50131fcdd638098a0edab', 'receipt_id': '3zfY8iXyE79CmyvUtkav8ozo7KqUyTvtaNrNF4CKLH8z'}]\n",
      "\u001b[96m Fetching deposit_and_stake Txns from Near Blocks \u001b[0m\n",
      "[{'hash': 'Azg5YsM1GY2zDk6aghrV1FjLZvbAM4HsLAXs6SewarTd', 'sender': 'ukusahuk.near', 'receipt_id': 'A6y7BcoHt1am7mUr7BdMdjmDw7Pw1uUemvbD1N2kLCEj'}]\n",
      "\u001b[96m Fetching deposit_and_stake Txns from Near Blocks \u001b[0m\n",
      "[{'hash': 'FdDqpXgC7DKJRyfMVqiEj52qw5FTeJ5jbxAf44ert5hs', 'sender': '50ca5b9bd99a5b4aee36c8721a2b68298cec717b6ff445b02ce85885f8a9b869', 'receipt_id': 'CwyW9rgqg44BYmwFWi498Qp9UrUpCsM642gy7Jo2cjxo'}]\n",
      "\u001b[96m Fetching deposit_and_stake Txns from Near Blocks \u001b[0m\n",
      "[]\n",
      "\u001b[96m Fetching deposit_and_stake Txns from Near Blocks \u001b[0m\n",
      "[]\n",
      "\u001b[96m Fetching deposit_and_stake Txns from Near Blocks \u001b[0m\n",
      "[{'hash': '6R13JoZRJrczcTmwGcC1hnkVm7UFXmb6NtanuWcgasPJ', 'sender': 'adritrvt.near', 'receipt_id': 'GZ6aEFhYwQrxL7GzNSHLCmDM6Dj1N5GK8yNWqrnGrMod'}]\n",
      "Epoch:  1673 , validator:  twinstake.poolv1.near Was:  121316169761327082268262400 , is:  121316169761327078499999999 ,diff:  1.2131616976132708e+26  NEAR\n"
     ]
    }
   ],
   "source": [
    "for epoch_num in range(1673,1674):\n",
    "    for validator in RELEVANT_VALIDATORS:\n",
    "        start_block = historical_df[historical_df[\"epoch_height\"] == epoch_num][\"start_block\"].values[0]    \n",
    "        end_block = historical_df[historical_df[\"epoch_height\"] == epoch_num][\"end_block\"].values[0]    \n",
    "        added_stake = get_recent_STAKE_txns_for_validator(validator, start_block, end_block)\n",
    "        val_ind = RELEVANT_VALIDATORS.index(validator)\n",
    "\n",
    "        _was = int(historical_df.loc[historical_df['epoch_height'] == epoch_num, f'val_{val_ind}_added_stake'].iloc[0])\n",
    "        historical_df.loc[historical_df['epoch_height'] == epoch_num, f'val_{val_ind}_added_stake'] = added_stake\n",
    "        historical_df.to_csv('data/near_historical_edited_2.csv')\n",
    "\n",
    "        if _was != added_stake:\n",
    "            print(\"Epoch: \", epoch_num, \", validator: \", validator, \"Was: \", _was, \", is: \", added_stake, \",diff: \", added_stake - _was/1e24, \" NEAR\")"
   ]
  },
  {
   "cell_type": "code",
   "execution_count": null,
   "metadata": {},
   "outputs": [],
   "source": []
  }
 ],
 "metadata": {
  "kernelspec": {
   "display_name": "venv",
   "language": "python",
   "name": "python3"
  },
  "language_info": {
   "codemirror_mode": {
    "name": "ipython",
    "version": 3
   },
   "file_extension": ".py",
   "mimetype": "text/x-python",
   "name": "python",
   "nbconvert_exporter": "python",
   "pygments_lexer": "ipython3",
   "version": "3.8.9"
  },
  "orig_nbformat": 4,
  "vscode": {
   "interpreter": {
    "hash": "bea62298d45008a021aebf2e66132df9e6bc68b189515caacae71d952dd37197"
   }
  }
 },
 "nbformat": 4,
 "nbformat_minor": 2
}
